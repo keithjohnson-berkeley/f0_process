{
 "cells": [
  {
   "cell_type": "markdown",
   "metadata": {},
   "source": [
    "# Parselmouth Example\n",
    "\n",
    "This notebook will demonstrate some basic functionality of parselmouth and how to convert existing praat scripts using the library. The logic and approach in this example will be similar/identical to that of Praat; in our later example we'll talk about other possible approaches that using parselmouth and Python allow us to pursue.\n",
    "\n",
    "This notebook should be accompanied by the following files:\n",
    "1. parselmouth_ex.wav\n",
    "1. parselmouth_ex.TextGrid\n",
    "\n",
    "# General Notes\n",
    "\n",
    "You might not know the name of a function you use in Praat and want to use through parselmouth. You can\n",
    "\n",
    "1. do the action manually in praat\n",
    "1. open a blank script and press `Paste History'\n",
    "1. find the name of the command for the action you want\n",
    "1. look in the parselmouth API documentation `https://parselmouth.readthedocs.io/en/latest/api_reference.html` for the command that matches "
   ]
  },
  {
   "cell_type": "markdown",
   "metadata": {},
   "source": [
    "# Opening and interacting with .wav files"
   ]
  },
  {
   "cell_type": "code",
   "execution_count": null,
   "metadata": {},
   "outputs": [],
   "source": [
    "import parselmouth as pm # implementing praat functionality\n",
    "import numpy as np # for numerical functions\n",
    "import audiolabel as al # for interacting with LabelManager objects (TextGrids)\n",
    "\n",
    "# Read in wav file; note the information provided in summary printouts\n",
    "wav = pm.Sound('parselmouth_ex.wav')\n",
    "print(wav)\n"
   ]
  },
  {
   "cell_type": "markdown",
   "metadata": {},
   "source": [
    "Often we'll want to make measurements on subsections of audio, and save those subsections for future reference.\n",
    "\n",
    "The objects of the Sound class in `parselmouth` have different methods (or functions) defined within them. \n",
    "\n",
    "One such method is `extract_part()` which can take a `from_time` and `to_time` argument (among others)."
   ]
  },
  {
   "cell_type": "code",
   "execution_count": null,
   "metadata": {},
   "outputs": [],
   "source": [
    "# establish start and end times\n",
    "s = 10\n",
    "e = 15\n",
    "\n",
    "# extract section\n",
    "new_wav = wav.extract_part(from_time=s,to_time=e)\n",
    "\n",
    "# note the information has changed for our new_wav object\n",
    "print(new_wav)\n"
   ]
  },
  {
   "cell_type": "markdown",
   "metadata": {},
   "source": [
    "Another method of the Sound class is `save()`, which allows you to ... save the object. \n",
    "\n",
    "The following call has an error in it; what's the issue? Once you've identified it, correct it and save our `new_wav` object."
   ]
  },
  {
   "cell_type": "code",
   "execution_count": null,
   "metadata": {},
   "outputs": [],
   "source": [
    "pm.save(new_wav, \"my_new_sound.wav\", 'WAV') \n",
    "# many different formats, bit-depths, encodings possible; see class parselmouth.SoundFileFormat in the API reference"
   ]
  },
  {
   "cell_type": "markdown",
   "metadata": {},
   "source": [
    "Let's see what it looks like if we want to get the mean f0 of a given stretch of audio."
   ]
  },
  {
   "cell_type": "code",
   "execution_count": null,
   "metadata": {},
   "outputs": [],
   "source": [
    "sub = new_wav\n",
    "pitch = sub.to_pitch()\n",
    "mean_f0 = np.mean(pitch.to_matrix().values) # no .get_mean() method for parselmouth.Pitch class\n",
    "mean_f0"
   ]
  },
  {
   "cell_type": "markdown",
   "metadata": {},
   "source": [
    "That seems a touch low... Let's plot the Pitch object's values."
   ]
  },
  {
   "cell_type": "code",
   "execution_count": null,
   "metadata": {},
   "outputs": [],
   "source": [
    "import matplotlib.pyplot as plt\n",
    "plt.plot(pitch.to_matrix().values[0])"
   ]
  },
  {
   "cell_type": "markdown",
   "metadata": {},
   "source": [
    "Aha!  Looks like there are a lot of zero values likely from silence and many values that are clearly too high.  We can set a floor and ceiling and try again."
   ]
  },
  {
   "cell_type": "code",
   "execution_count": null,
   "metadata": {},
   "outputs": [],
   "source": [
    "(floor, ceiling) = (50,200)\n",
    "mean_f0 = np.mean([f for f in pitch.to_matrix().values[0] if floor < f < ceiling])\n",
    "mean_f0"
   ]
  },
  {
   "cell_type": "markdown",
   "metadata": {},
   "source": [
    "That's more like it!  \n",
    "\n",
    "The specifics about classes, methods, and their arguments can be found in the API reference for `parselmouth` linked above.  And in fact, `to_pitch()` accepts `pitch_floor` and `pitch_ceiling` optional arguments, but the behavior does not replicate the above cell.  Check it out and see why!"
   ]
  },
  {
   "cell_type": "markdown",
   "metadata": {},
   "source": [
    "# Common Workflow Example\n",
    "\n",
    "## Common Framework\n",
    "For many types of measurements in Praat, we have the following common workflow:\n",
    "\n",
    "1. Select a Sound and Force-Aligned TextGrid\n",
    "1. Loop over all phone intervals in the TextGrid\n",
    "1. Select those phones and contexts that match what you care about\n",
    "1. Make some measurements\n",
    "1. Write those measurements to a .csv file\n",
    "\n",
    "## Application"
   ]
  },
  {
   "cell_type": "code",
   "execution_count": null,
   "metadata": {},
   "outputs": [],
   "source": [
    "(floor, ceiling) = (50,200)\n",
    "\n",
    "def measure_f0(wav,tg,out_file):\n",
    "    # read in wav and textgrid\n",
    "    wav = pm.Sound(wav)\n",
    "    tg = al.LabelManager(from_file=tg,from_type='praat')\n",
    "    \n",
    "    # create header\n",
    "    out_lines = []\n",
    "    out_lines.append('start,end,duration,f0')\n",
    "    # find all instances of 'iy' in phone tier\n",
    "    matches = tg.tier('phone').search('iy')\n",
    "    \n",
    "    for match in matches:\n",
    "        # get time of match\n",
    "        s = match.t1\n",
    "        e = match.t2\n",
    "        dur = e - s\n",
    "        \n",
    "        # extract section of wav file and measure f0\n",
    "        sub = wav.extract_part(from_time = s, to_time = e)\n",
    "        pitch = sub.to_pitch()\n",
    "        mean_f0 = np.mean([f for f in pitch.to_matrix().values[0] if floor < f < ceiling]) # no .get_mean() method for parselmouth.Pitch class\n",
    "\n",
    "        # add to lines to write\n",
    "        out_lines.append(','.join(map(str,[s,e,dur,mean_f0]))) #map(str, list) b/c join expects strings, not floats.\n",
    "        \n",
    "    # write output lines to file\n",
    "    with open(out_file, 'w') as output:\n",
    "        for line in out_lines:\n",
    "            output.write(str(line + '\\n'))\n",
    "    \n",
    "    \n",
    "measure_f0('parselmouth_ex.wav','parselmouth_ex.TextGrid','f0_meas.csv')"
   ]
  },
  {
   "cell_type": "markdown",
   "metadata": {},
   "source": [
    "# Context\n",
    "\n",
    "Typically, we'll want to also consider other factors, such as the preceding and following phones as well as the lexical context. Like in Praat, you might consider calculating these during your for-loop over the labelManager object.\n",
    "\n",
    "Let's look at example where we do the same as above, but also capture preceding phone, following phone, and word frame."
   ]
  },
  {
   "cell_type": "code",
   "execution_count": null,
   "metadata": {},
   "outputs": [],
   "source": [
    "def measure_f0(wav,tg,out_file):\n",
    "    # read in wav and textgrid\n",
    "    wav = pm.Sound(wav)\n",
    "    tg = al.LabelManager(from_file=tg,from_type='praat')\n",
    "    \n",
    "    # create header\n",
    "    out_lines = []\n",
    "    out_lines.append('start,end,duration,f0,prev,foll,word')\n",
    "    # find all instances of 'iy' in phone tier\n",
    "    matches = tg.tier('phone').search('iy')\n",
    "    \n",
    "    for n, match in enumerate(matches):\n",
    "        # get time of match\n",
    "        s = match.t1\n",
    "        e = match.t2\n",
    "        dur = e - s\n",
    "        mid = s + (dur/2)\n",
    "        \n",
    "        # get previous and following\n",
    "        prev = tg.tier('phone').prev(match).text\n",
    "        foll = tg.tier('phone').next(match).text\n",
    "        \n",
    "        # get word\n",
    "        word = tg.tier('word').label_at(mid).text\n",
    "        \n",
    "        # extract section of wav file and measure f0\n",
    "        sub = wav.extract_part(from_time = s, to_time = e)\n",
    "        pitch = sub.to_pitch()\n",
    "        mean_f0 = np.mean([f for f in pitch.to_matrix().values[0] if floor < f < ceiling]) # no .get_mean() method for parselmouth.Pitch class\n",
    "\n",
    "        # add to lines to write\n",
    "        out_lines.append(','.join(map(str,[s,e,dur,mean_f0,prev,foll,word]))) #map(str, list) b/c join expects strings, not floats.\n",
    "        \n",
    "    # write output lines to file\n",
    "    with open(out_file, 'w') as output:\n",
    "        for line in out_lines:\n",
    "            output.write(str(line + '\\n'))\n",
    "    \n",
    "    \n",
    "measure_f0('parselmouth_ex.wav','parselmouth_ex.TextGrid','f0_meas_context.csv')"
   ]
  }
 ],
 "metadata": {
  "kernelspec": {
   "display_name": "Python 3",
   "language": "python",
   "name": "python3"
  },
  "language_info": {
   "codemirror_mode": {
    "name": "ipython",
    "version": 3
   },
   "file_extension": ".py",
   "mimetype": "text/x-python",
   "name": "python",
   "nbconvert_exporter": "python",
   "pygments_lexer": "ipython3",
   "version": "3.7.2"
  }
 },
 "nbformat": 4,
 "nbformat_minor": 2
}
